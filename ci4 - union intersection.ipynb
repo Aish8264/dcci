{
 "cells": [
  {
   "cell_type": "code",
   "execution_count": null,
   "metadata": {},
   "outputs": [],
   "source": [
    "\n"
   ]
  },
  {
   "cell_type": "code",
   "execution_count": 3,
   "metadata": {},
   "outputs": [
    {
     "name": "stdout",
     "output_type": "stream",
     "text": [
      "Fuzzy Set A: {'a': 0.2, 'b': 0.3, 'c': 0.6, 'd': 0.6}\n",
      "Fuzzy Set B: {'a': 0.9, 'b': 0.9, 'c': 0.4, 'd': 0.5}\n",
      "Fuzzy Set C: {'x': 0.5, 'y': 0.7, 'z': 0.2}\n",
      "\n",
      "Fuzzy Set Union (A ∪ B): {'a': 0.9, 'b': 0.9, 'c': 0.6, 'd': 0.6}\n",
      "Fuzzy Set Intersection (A ∩ B): {'a': 0.2, 'b': 0.3, 'c': 0.4, 'd': 0.5}\n",
      "Fuzzy Set Complement (~A): {'a': 0.8, 'b': 0.7, 'c': 0.4, 'd': 0.4}\n",
      "Fuzzy Set Difference (A - B): {'a': 0.09999999999999998, 'b': 0.09999999999999998, 'c': 0.6, 'd': 0.5}\n",
      "\n",
      "Fuzzy Relation R1 (A × B):\n",
      "a: {'a': 0.2, 'b': 0.2, 'c': 0.2, 'd': 0.2}\n",
      "b: {'a': 0.3, 'b': 0.3, 'c': 0.3, 'd': 0.3}\n",
      "c: {'a': 0.6, 'b': 0.6, 'c': 0.4, 'd': 0.5}\n",
      "d: {'a': 0.6, 'b': 0.6, 'c': 0.4, 'd': 0.5}\n",
      "\n",
      "Fuzzy Relation R2 (B × C):\n",
      "a: {'x': 0.5, 'y': 0.7, 'z': 0.2}\n",
      "b: {'x': 0.5, 'y': 0.7, 'z': 0.2}\n",
      "c: {'x': 0.4, 'y': 0.4, 'z': 0.2}\n",
      "d: {'x': 0.5, 'y': 0.5, 'z': 0.2}\n",
      "\n",
      "Max-Min Composition R3 = R1 ○ R2:\n",
      "a: {'x': 0.2, 'y': 0.2, 'z': 0.2}\n",
      "b: {'x': 0.3, 'y': 0.3, 'z': 0.2}\n",
      "c: {'x': 0.5, 'y': 0.6, 'z': 0.2}\n",
      "d: {'x': 0.5, 'y': 0.6, 'z': 0.2}\n"
     ]
    }
   ],
   "source": [
    "# Define fuzzy sets\n",
    "A = {\"a\": 0.2, \"b\": 0.3, \"c\": 0.6, \"d\": 0.6}\n",
    "B = {\"a\": 0.9, \"b\": 0.9, \"c\": 0.4, \"d\": 0.5}\n",
    "C = {\"x\": 0.5, \"y\": 0.7, \"z\": 0.2}\n",
    "\n",
    "print('Fuzzy Set A:', A)\n",
    "print('Fuzzy Set B:', B)\n",
    "print('Fuzzy Set C:', C)\n",
    "\n",
    "# 1. Fuzzy Union\n",
    "Y_union = {key: max(A[key], B[key]) for key in A}\n",
    "print('\\nFuzzy Set Union (A ∪ B):', Y_union)\n",
    "\n",
    "# 2. Fuzzy Intersection\n",
    "Y_intersection = {key: min(A[key], B[key]) for key in A}\n",
    "print('Fuzzy Set Intersection (A ∩ B):', Y_intersection)\n",
    "\n",
    "# 3. Fuzzy Complement of A\n",
    "Y_complement = {key: 1 - A[key] for key in A}\n",
    "print('Fuzzy Set Complement (~A):', Y_complement)\n",
    "\n",
    "# 4. Fuzzy Difference (A - B)\n",
    "Y_difference = {key: min(A[key], 1 - B[key]) for key in A}\n",
    "print('Fuzzy Set Difference (A - B):', Y_difference)\n",
    "\n",
    "# 5. Fuzzy Relation R1 from Cartesian Product A × B\n",
    "R1 = {}\n",
    "for a_key in A:\n",
    "    R1[a_key] = {}\n",
    "    for b_key in B:\n",
    "        R1[a_key][b_key] = min(A[a_key], B[b_key])\n",
    "\n",
    "print('\\nFuzzy Relation R1 (A × B):')\n",
    "for a in R1:\n",
    "    print(f'{a}: {R1[a]}')\n",
    "\n",
    "# 6. Fuzzy Relation R2 from Cartesian Product B × C\n",
    "R2 = {}\n",
    "for b_key in B:\n",
    "    R2[b_key] = {}\n",
    "    for c_key in C:\n",
    "        R2[b_key][c_key] = min(B[b_key], C[c_key])\n",
    "\n",
    "print('\\nFuzzy Relation R2 (B × C):')\n",
    "for b in R2:\n",
    "    print(f'{b}: {R2[b]}')\n",
    "\n",
    "# 7. Max-Min Composition R3 = R1 ○ R2\n",
    "R3 = {}\n",
    "for a_key in R1:\n",
    "    R3[a_key] = {}\n",
    "    for c_key in C:\n",
    "        max_min = 0\n",
    "        for b_key in B:\n",
    "            min_val = min(R1[a_key].get(b_key, 0), R2.get(b_key, {}).get(c_key, 0))\n",
    "            max_min = max(max_min, min_val)\n",
    "        R3[a_key][c_key] = max_min\n",
    "\n",
    "print('\\nMax-Min Composition R3 = R1 ○ R2:')\n",
    "for a in R3:\n",
    "    print(f'{a}: {R3[a]}')\n"
   ]
  },
  {
   "cell_type": "code",
   "execution_count": null,
   "metadata": {},
   "outputs": [],
   "source": []
  }
 ],
 "metadata": {
  "kernelspec": {
   "display_name": "Python 3 (ipykernel)",
   "language": "python",
   "name": "python3"
  },
  "language_info": {
   "codemirror_mode": {
    "name": "ipython",
    "version": 3
   },
   "file_extension": ".py",
   "mimetype": "text/x-python",
   "name": "python",
   "nbconvert_exporter": "python",
   "pygments_lexer": "ipython3",
   "version": "3.11.5"
  }
 },
 "nbformat": 4,
 "nbformat_minor": 2
}
