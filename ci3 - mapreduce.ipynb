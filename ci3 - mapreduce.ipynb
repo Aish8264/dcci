{
 "cells": [
  {
   "cell_type": "code",
   "execution_count": 2,
   "id": "21dba5d6",
   "metadata": {},
   "outputs": [
    {
     "name": "stdout",
     "output_type": "stream",
     "text": [
      "Usage: python character_count.py x.txt\n"
     ]
    },
    {
     "ename": "SystemExit",
     "evalue": "1",
     "output_type": "error",
     "traceback": [
      "An exception has occurred, use %tb to see the full traceback.\n",
      "\u001b[1;31mSystemExit\u001b[0m\u001b[1;31m:\u001b[0m 1\n"
     ]
    }
   ],
   "source": [
    "# character_count.py\n",
    "from mrjob.job import MRJob\n",
    "import sys\n",
    " \n",
    "class CharacterCount(MRJob):\n",
    "    \n",
    "    def mapper(self, _, line):\n",
    "        # Emit each character with count 1\n",
    "        for char in line:\n",
    "            yield char, 1\n",
    "    \n",
    "    def reducer(self, key, values):\n",
    "        # Sum up the counts for each character\n",
    "        yield key, sum(values)\n",
    " \n",
    "if __name__ == '__main__':\n",
    "    if len(sys.argv) != 2:\n",
    "        print(\"Usage: python character_count.py x.txt\")\n",
    "        sys.exit(1)\n",
    "    CharacterCount.run()"
   ]
  },
  {
   "cell_type": "code",
   "execution_count": 3,
   "id": "813e321b",
   "metadata": {},
   "outputs": [
    {
     "name": "stdout",
     "output_type": "stream",
     "text": [
      "Usage: python word_count.py x.txt\n"
     ]
    },
    {
     "ename": "SystemExit",
     "evalue": "1",
     "output_type": "error",
     "traceback": [
      "An exception has occurred, use %tb to see the full traceback.\n",
      "\u001b[1;31mSystemExit\u001b[0m\u001b[1;31m:\u001b[0m 1\n"
     ]
    }
   ],
   "source": [
    "# word_count.py\n",
    "from mrjob.job import MRJob\n",
    "import re\n",
    "import sys\n",
    " \n",
    "WORD_RE = re.compile(r\"[\\w']+\")\n",
    " \n",
    "class WordCount(MRJob):\n",
    "    \n",
    "    def mapper(self, _, line):\n",
    "        # Emit each word with count 1\n",
    "        for word in WORD_RE.findall(line):\n",
    "            yield word.lower(), 1\n",
    "    \n",
    "    def reducer(self, key, values):\n",
    "        # Sum up the counts for each word\n",
    "        yield key, sum(values)\n",
    " \n",
    "if __name__ == '__main__':\n",
    "    if len(sys.argv) != 2:\n",
    "        print(\"Usage: python word_count.py x.txt\")\n",
    "        sys.exit(1)\n",
    "    WordCount.run()"
   ]
  },
  {
   "cell_type": "code",
   "execution_count": null,
   "id": "acb7b33f",
   "metadata": {},
   "outputs": [],
   "source": []
  }
 ],
 "metadata": {
  "kernelspec": {
   "display_name": "Python 3 (ipykernel)",
   "language": "python",
   "name": "python3"
  },
  "language_info": {
   "codemirror_mode": {
    "name": "ipython",
    "version": 3
   },
   "file_extension": ".py",
   "mimetype": "text/x-python",
   "name": "python",
   "nbconvert_exporter": "python",
   "pygments_lexer": "ipython3",
   "version": "3.11.5"
  }
 },
 "nbformat": 4,
 "nbformat_minor": 5
}
