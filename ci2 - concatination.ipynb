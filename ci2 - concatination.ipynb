{
 "cells": [
  {
   "cell_type": "code",
   "execution_count": null,
   "id": "de56dacb",
   "metadata": {},
   "outputs": [
    {
     "name": "stdout",
     "output_type": "stream",
     "text": [
      "Collecting Pyro5\n",
      "  Obtaining dependency information for Pyro5 from https://files.pythonhosted.org/packages/85/32/1c7e488f82c59189e917bfedb926b1c2b87104c8d31c8323a5aa5e1fc603/Pyro5-5.15-py3-none-any.whl.metadata\n",
      "  Downloading Pyro5-5.15-py3-none-any.whl.metadata (4.9 kB)\n",
      "Collecting serpent>=1.41 (from Pyro5)\n",
      "  Obtaining dependency information for serpent>=1.41 from https://files.pythonhosted.org/packages/ad/86/e029bd8a451f145e28530128239be057ca6e701aac46ad0d0000f852d551/serpent-1.41-py3-none-any.whl.metadata\n",
      "  Downloading serpent-1.41-py3-none-any.whl.metadata (5.8 kB)\n",
      "Downloading Pyro5-5.15-py3-none-any.whl (79 kB)\n",
      "   ---------------------------------------- 0.0/79.1 kB ? eta -:--:--\n",
      "   -------------------- ------------------- 41.0/79.1 kB 653.6 kB/s eta 0:00:01\n",
      "   ---------------------------------------- 79.1/79.1 kB 1.1 MB/s eta 0:00:00\n",
      "Downloading serpent-1.41-py3-none-any.whl (9.6 kB)\n",
      "Installing collected packages: serpent, Pyro5\n",
      "Successfully installed Pyro5-5.15 serpent-1.41\n",
      "Server is running. URI: PYRO:string.service@localhost:52235\n"
     ]
    }
   ],
   "source": [
    "!pip install Pyro5\n",
    "\n",
    " \n",
    "import Pyro5.api\n",
    " \n",
    "@Pyro5.api.expose\n",
    "class StringService:\n",
    "    def concatenate(self, str1, str2):\n",
    "        return str1 + str2\n",
    " \n",
    "# Start the Pyro5 Daemon\n",
    "def main():\n",
    "    daemon = Pyro5.server.Daemon()\n",
    "    uri = daemon.register(StringService, \"string.service\")\n",
    "    print(\"Server is running. URI:\", uri)\n",
    "    daemon.requestLoop()\n",
    " \n",
    "# Uncomment this to run in script mode\n",
    "if __name__ == \"__main__\":\n",
    "    main()"
   ]
  },
  {
   "cell_type": "code",
   "execution_count": null,
   "id": "04c9c1f4",
   "metadata": {},
   "outputs": [],
   "source": [
    "import Pyro5.api\n",
    " \n",
    "# Connect to the server\n",
    "uri = \"PYRO:string.service@localhost:52235\"  # Update localhost if needed\n",
    "try:\n",
    "    string_service = Pyro5.api.Proxy(uri)\n",
    " \n",
    "    # Inputs\n",
    "    str1 = input(\"Enter first string: \")\n",
    "    str2 = input(\"Enter second string: \")\n",
    " \n",
    "    # Remote method call\n",
    "    result = string_service.concatenate(str1, str2)\n",
    "    print(\"Concatenated String:\", result)\n",
    " \n",
    "except Exception as e:\n",
    "    print(\"Error:\", e)"
   ]
  },
  {
   "cell_type": "code",
   "execution_count": null,
   "id": "ca91f41a",
   "metadata": {},
   "outputs": [],
   "source": []
  }
 ],
 "metadata": {
  "kernelspec": {
   "display_name": "Python 3 (ipykernel)",
   "language": "python",
   "name": "python3"
  },
  "language_info": {
   "codemirror_mode": {
    "name": "ipython",
    "version": 3
   },
   "file_extension": ".py",
   "mimetype": "text/x-python",
   "name": "python",
   "nbconvert_exporter": "python",
   "pygments_lexer": "ipython3",
   "version": "3.11.5"
  }
 },
 "nbformat": 4,
 "nbformat_minor": 5
}
